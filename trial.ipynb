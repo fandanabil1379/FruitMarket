{
 "cells": [
  {
   "cell_type": "code",
   "execution_count": 4,
   "metadata": {},
   "outputs": [
    {
     "data": {
      "text/plain": [
       "10"
      ]
     },
     "execution_count": 4,
     "metadata": {},
     "output_type": "execute_result"
    }
   ],
   "source": [
    "sum([1, 2, 3, 4])"
   ]
  },
  {
   "cell_type": "code",
   "execution_count": 2,
   "metadata": {},
   "outputs": [
    {
     "name": "stdout",
     "output_type": "stream",
     "text": [
      "+---------+--------+---------+---------+\n",
      "|   Index | Name   |   Stock |   Price |\n",
      "+=========+========+=========+=========+\n",
      "|       0 | Apel   |      20 |   10000 |\n",
      "+---------+--------+---------+---------+\n",
      "|       1 | Anggur |      15 |   15000 |\n",
      "+---------+--------+---------+---------+\n",
      "|       2 | Jeruk  |      25 |   20000 |\n",
      "+---------+--------+---------+---------+\n"
     ]
    }
   ],
   "source": [
    "from tabulate import tabulate\n",
    "\n",
    "table = [\n",
    "    [0, 'Apel', 20, 10000],\n",
    "    [1, 'Anggur', 15, 15000],\n",
    "    [2, 'Jeruk', 25, 20000],\n",
    "]\n",
    "\n",
    "headers = ['Index', 'Name', 'Stock', 'Price']\n",
    "\n",
    "print(tabulate(table, headers, tablefmt=\"grid\"))"
   ]
  },
  {
   "cell_type": "code",
   "execution_count": null,
   "metadata": {},
   "outputs": [],
   "source": []
  }
 ],
 "metadata": {
  "kernelspec": {
   "display_name": "Python 3",
   "language": "python",
   "name": "python3"
  },
  "language_info": {
   "codemirror_mode": {
    "name": "ipython",
    "version": 3
   },
   "file_extension": ".py",
   "mimetype": "text/x-python",
   "name": "python",
   "nbconvert_exporter": "python",
   "pygments_lexer": "ipython3",
   "version": "3.9.16"
  }
 },
 "nbformat": 4,
 "nbformat_minor": 2
}
